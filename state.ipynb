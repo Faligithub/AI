{
  "nbformat": 4,
  "nbformat_minor": 0,
  "metadata": {
    "colab": {
      "provenance": [],
      "authorship_tag": "ABX9TyOoEOgct6eHJl2S2DakaMhn",
      "include_colab_link": true
    },
    "kernelspec": {
      "name": "python3",
      "display_name": "Python 3"
    },
    "language_info": {
      "name": "python"
    }
  },
  "cells": [
    {
      "cell_type": "markdown",
      "metadata": {
        "id": "view-in-github",
        "colab_type": "text"
      },
      "source": [
        "<a href=\"https://colab.research.google.com/github/Faligithub/AI/blob/main/state.ipynb\" target=\"_parent\"><img src=\"https://colab.research.google.com/assets/colab-badge.svg\" alt=\"Open In Colab\"/></a>"
      ]
    },
    {
      "cell_type": "code",
      "source": [
        " class state:\n",
        "  goal=[1,2,3,4,5,6,7,8,0]\n",
        "  def __init__(self,state,parent,direction,depth,cost):\n",
        "    self.state=state\n",
        "    self.parent=parent\n",
        "    self.direction=direction\n",
        "    self.depth=depth\n",
        "\n",
        "    if parent:\n",
        "      self.cost=parent.cost+cost\n",
        "    else:\n",
        "      self.cost=cost\n",
        "\n",
        "  def test(self):#check even i\n",
        "    if self.state==self.goal:\n",
        "      return True\n",
        "    return False\n",
        "  def Misplaced_Tiles(self,n):\n",
        "    counter=0\n",
        "    for i in range(n*n):\n",
        "      if(self.state[i]!=self.goal[i]):\n",
        "        counter+=1\n",
        "        return counter\n",
        "  @staticmethod\n",
        "  #this would remove illigal moves for a given state\n",
        "  def available_moves(x,n):\n",
        "    moves=['Left','Right','Up','Down']\n",
        "    if x%n==0:\n",
        "      moves.remove('Left')\n",
        "    if x%n==n-1:\n",
        "      moves.remove('Right')\n",
        "    if x%n<0:\n",
        "      moves.remove('Up')\n",
        "    if x+n>n*n-1:\n",
        "      moves.remove('Down')\n",
        "      return moves\n",
        "\n",
        " #Produces a given state\n",
        "\n",
        " def expand(self,n):\n",
        "  x=self.state.index(0)\n",
        "  moves=self.available_moves(x,n)\n",
        "  children=[]\n",
        "  for direction in moves:\n",
        "    temp=self.state.copy()\n",
        "    if direction == 'Left':\n",
        "      temp[x],temp[x-1]=temp[x-1],temp[x]\n",
        "    elif direction == 'Right':\n",
        "      temp[x],temp[x+1]=temp[x+1],temp[x]\n",
        "    elif direction == 'Up':\n",
        "      temp[x],temp[x-n]=temp[x-n],temp[x]\n",
        "    elif direction == 'Down':\n",
        "      temp[x],temp[x+n]=temp[x+n],temp[x]\n",
        "\n",
        "    children.append(state(temp,self,direction,self.depth+1,1))\n",
        "    #depth should be changed as children are produced\n",
        "  return children\n",
        "#ge3ts the given state and returns it's direction + it's parents direction\n",
        "def solution(self):\n",
        "  solution=[]\n",
        "  solution.append(self.direction)\n",
        "  path=self\n",
        "  while path.parent!=None:\n",
        "    path=path.parent\n",
        "    solution.append(path.direction)\n",
        "  solution=solution[:-1]\n",
        "  solution.reverse()\n",
        "  return solution\n",
        "\n"
      ],
      "metadata": {
        "id": "349frcmyH2th"
      },
      "execution_count": 5,
      "outputs": []
    },
    {
      "cell_type": "code",
      "execution_count": null,
      "metadata": {
        "id": "Pi3Q1vUoHxLq"
      },
      "outputs": [],
      "source": []
    }
  ]
}